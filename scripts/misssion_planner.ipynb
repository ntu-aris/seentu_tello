{
 "cells": [
  {
   "cell_type": "code",
   "execution_count": 4,
   "metadata": {},
   "outputs": [
    {
     "ename": "ROSInitException",
     "evalue": "time is not initialized. Have you called init_node()?",
     "output_type": "error",
     "traceback": [
      "\u001b[0;31m---------------------------------------------------------------------------\u001b[0m",
      "\u001b[0;31mROSInitException\u001b[0m                          Traceback (most recent call last)",
      "Cell \u001b[0;32mIn[4], line 22\u001b[0m\n\u001b[1;32m     19\u001b[0m pose_sub \u001b[39m=\u001b[39m rospy\u001b[39m.\u001b[39mSubscriber(\u001b[39m\"\u001b[39m\u001b[39m/mavros/local_position/pose\u001b[39m\u001b[39m\"\u001b[39m, PoseStamped, pose_callback)\n\u001b[1;32m     20\u001b[0m velocity_sub \u001b[39m=\u001b[39m rospy\u001b[39m.\u001b[39mSubscriber(\u001b[39m\"\u001b[39m\u001b[39m/mavros/local_position/pose\u001b[39m\u001b[39m\"\u001b[39m, TwistStamped, velocity_callback)\n\u001b[0;32m---> 22\u001b[0m rate \u001b[39m=\u001b[39m rospy\u001b[39m.\u001b[39;49mRate(\u001b[39m10\u001b[39;49m)\n\u001b[1;32m     23\u001b[0m \u001b[39mwhile\u001b[39;00m \u001b[39mnot\u001b[39;00m rospy\u001b[39m.\u001b[39mis_shutdown():\n\u001b[1;32m     25\u001b[0m     pos \u001b[39m=\u001b[39m odom\u001b[39m.\u001b[39mpose\u001b[39m.\u001b[39mpose\u001b[39m.\u001b[39mposition\n",
      "File \u001b[0;32m/opt/ros/noetic/lib/python3/dist-packages/rospy/timer.py:61\u001b[0m, in \u001b[0;36mRate.__init__\u001b[0;34m(self, hz, reset)\u001b[0m\n\u001b[1;32m     53\u001b[0m \u001b[39m\u001b[39m\u001b[39m\"\"\"\u001b[39;00m\n\u001b[1;32m     54\u001b[0m \u001b[39mConstructor.\u001b[39;00m\n\u001b[1;32m     55\u001b[0m \u001b[39m@param hz: hz rate to determine sleeping\u001b[39;00m\n\u001b[0;32m   (...)\u001b[0m\n\u001b[1;32m     58\u001b[0m \u001b[39m@type  reset: bool\u001b[39;00m\n\u001b[1;32m     59\u001b[0m \u001b[39m\"\"\"\u001b[39;00m\n\u001b[1;32m     60\u001b[0m \u001b[39m# #1403\u001b[39;00m\n\u001b[0;32m---> 61\u001b[0m \u001b[39mself\u001b[39m\u001b[39m.\u001b[39mlast_time \u001b[39m=\u001b[39m rospy\u001b[39m.\u001b[39;49mrostime\u001b[39m.\u001b[39;49mget_rostime()\n\u001b[1;32m     62\u001b[0m \u001b[39mself\u001b[39m\u001b[39m.\u001b[39msleep_dur \u001b[39m=\u001b[39m rospy\u001b[39m.\u001b[39mrostime\u001b[39m.\u001b[39mDuration(\u001b[39m0\u001b[39m, \u001b[39mint\u001b[39m(\u001b[39m1e9\u001b[39m\u001b[39m/\u001b[39mhz))\n\u001b[1;32m     63\u001b[0m \u001b[39mself\u001b[39m\u001b[39m.\u001b[39m_reset \u001b[39m=\u001b[39m reset\n",
      "File \u001b[0;32m/opt/ros/noetic/lib/python3/dist-packages/rospy/rostime.py:190\u001b[0m, in \u001b[0;36mget_rostime\u001b[0;34m()\u001b[0m\n\u001b[1;32m    184\u001b[0m \u001b[39m\u001b[39m\u001b[39m\"\"\"\u001b[39;00m\n\u001b[1;32m    185\u001b[0m \u001b[39mGet the current time as a L{Time} object    \u001b[39;00m\n\u001b[1;32m    186\u001b[0m \u001b[39m@return: current time as a L{rospy.Time} object\u001b[39;00m\n\u001b[1;32m    187\u001b[0m \u001b[39m@rtype: L{Time}\u001b[39;00m\n\u001b[1;32m    188\u001b[0m \u001b[39m\"\"\"\u001b[39;00m\n\u001b[1;32m    189\u001b[0m \u001b[39mif\u001b[39;00m \u001b[39mnot\u001b[39;00m _rostime_initialized:\n\u001b[0;32m--> 190\u001b[0m     \u001b[39mraise\u001b[39;00m rospy\u001b[39m.\u001b[39mexceptions\u001b[39m.\u001b[39mROSInitException(\u001b[39m\"\u001b[39m\u001b[39mtime is not initialized. Have you called init_node()?\u001b[39m\u001b[39m\"\u001b[39m)\n\u001b[1;32m    191\u001b[0m \u001b[39mif\u001b[39;00m _rostime_current \u001b[39mis\u001b[39;00m \u001b[39mnot\u001b[39;00m \u001b[39mNone\u001b[39;00m:\n\u001b[1;32m    192\u001b[0m     \u001b[39m# initialize with sim time\u001b[39;00m\n\u001b[1;32m    193\u001b[0m     \u001b[39mreturn\u001b[39;00m _rostime_current\n",
      "\u001b[0;31mROSInitException\u001b[0m: time is not initialized. Have you called init_node()?"
     ]
    }
   ],
   "source": [
    "import rospy\n",
    "from geometry_msgs.msg import PoseStamped\n",
    "from geometry_msgs.msg import TwistStamped\n",
    "from nav_msgs.msg import Odometry\n",
    "from tf.transformations import *\n",
    "\n",
    "odom = Odometry()\n",
    "\n",
    "def pose_callback(msg):\n",
    "    odom.pose.pose = msg.pose\n",
    "\n",
    "def velocity_callback(msg):\n",
    "    odom.twist.twist = msg.twist\n",
    "\n",
    "# Init the node\n",
    "rospy.init_node(\"mission_planner\", anonymous=True)\n",
    "\n",
    "# Susbcribe to pose and velocity topic\n",
    "pose_sub = rospy.Subscriber(\"/mavros/local_position/pose\", PoseStamped, pose_callback)\n",
    "velocity_sub = rospy.Subscriber(\"/mavros/local_position/pose\", TwistStamped, velocity_callback)\n",
    "\n",
    "# Create a service and \n",
    "\n",
    "rate = rospy.Rate(10)\n",
    "while not rospy.is_shutdown():\n",
    "\n",
    "    pos = odom.pose.pose.position\n",
    "\n",
    "    eul = euler_from_quaternion(odom.pose.pose.orientation.w,\n",
    "                                odom.pose.pose.orientation.x,\n",
    "                                odom.pose.pose.orientation.y,\n",
    "                                odom.pose.pose.orientation.z).toRPY()\n",
    "    vel = odom.twist.twist.linear\n",
    "\n",
    "    info_text = f'Time: {rospy.Time.now().to_sec():.3f} ' + \\\n",
    "                f'Pos: {pos.x:7.3f}, {pos.y:7.3f}, {pos.z:7.3f} ' + \\\n",
    "                f'Eul: {eul.x:7.3f}, {eul.y:7.3f}, {eul.z:7.3f} ' + \\\n",
    "                f'Vel: {vel.x:7.3f}, {vel.y:7.3f}, {vel.z:7.3f}'\n",
    "    \n",
    "    print(info_text)\n",
    "    rate.sleep()\n",
    "                "
   ]
  },
  {
   "cell_type": "code",
   "execution_count": null,
   "metadata": {},
   "outputs": [],
   "source": []
  }
 ],
 "metadata": {
  "kernelspec": {
   "display_name": "py3810",
   "language": "python",
   "name": "python3"
  },
  "language_info": {
   "codemirror_mode": {
    "name": "ipython",
    "version": 3
   },
   "file_extension": ".py",
   "mimetype": "text/x-python",
   "name": "python",
   "nbconvert_exporter": "python",
   "pygments_lexer": "ipython3",
   "version": "3.8.10"
  },
  "orig_nbformat": 4
 },
 "nbformat": 4,
 "nbformat_minor": 2
}
